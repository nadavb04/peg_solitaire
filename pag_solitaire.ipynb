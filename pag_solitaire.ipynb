{
 "cells": [
  {
   "cell_type": "code",
   "execution_count": 368,
   "metadata": {
    "ExecuteTime": {
     "end_time": "2024-06-22T05:35:53.649208Z",
     "start_time": "2024-06-22T05:35:53.617612Z"
    }
   },
   "outputs": [],
   "source": [
    "from typing import List\n",
    "import copy\n",
    "\n",
    "BoradState = np.ndarray\n",
    "\n",
    "@dataclass\n",
    "class BoardCoord:\n",
    "    x: int\n",
    "    y: int\n",
    "\n",
    "@dataclass\n",
    "class Move:\n",
    "    piece: BoardCoord\n",
    "    dx: int\n",
    "    dy: int\n",
    "    \n",
    "intial_board = np.array([\n",
    "            [0, 0, 1, 1, 1, 0, 0],\n",
    "            [0, 0, 1, 1, 1, 0, 0],\n",
    "            [1, 1, 1, 1, 1, 1, 1],\n",
    "            [1, 1, 1, 2, 1, 1, 1],\n",
    "            [1, 1, 1, 1, 1, 1, 1],\n",
    "            [0, 0, 1, 1, 1, 0, 0],\n",
    "            [0, 0, 1, 1, 1, 0, 0],\n",
    "        ])\n",
    "\n",
    "@dataclass\n",
    "class pag_solitare():\n",
    "    \n",
    "    def __init__(self, board):\n",
    "        self.board = board\n",
    "        self.move_count = 0\n",
    "        self.board_height, self.board_length = self.board.shape\n",
    "\n",
    "    def make_move(self, move: Move):\n",
    "        \"\"\"\n",
    "        make a move an update board status\n",
    "        @param x,y: position marble to move\n",
    "        @param dx, dy: \\in {0,+1,-1}, defines the move to make\n",
    "        \"\"\"\n",
    "        new_board_state = np.copy(self.board)\n",
    "        \n",
    "        x, y, dx, dy = move.piece.x, move.piece.y, move.dx, move.dy\n",
    "        new_board_state[x, y] = 2\n",
    "        new_board_state[x+dx, y+dy] = 2\n",
    "        new_board_state[x+2*dx, y+2*dy] = 1\n",
    "        return pag_solitare(new_board_state)\n",
    "    \n",
    "    def is_valid_move(self, move: Move) -> bool:\n",
    "        \"\"\"\n",
    "        verify move is valid\n",
    "        \"\"\"\n",
    "        x, y, dx, dy = move.piece.x, move.piece.y, move.dx, move.dy\n",
    "        cond1, cond2, cond3 = False, False, False\n",
    "        if (0<x+2*dx<self.board_length) & (0<y+2*dy<self.board_height):\n",
    "            cond1 = (self.board[x,y] == 1)        \n",
    "            cond2 = (self.board[x+dx,y+dy] == 1)\n",
    "            cond3 = (self.board[x+2*dx,y+2*dy] == 2)\n",
    "        \n",
    "        return cond1 & cond2 & cond3\n",
    "    \n",
    "    def get_possible_moves(self) -> List[List[int]]:\n",
    "        \"\"\"\n",
    "        returns a list of possible moves, each move\n",
    "        is represented as [x,y, dx, dy]\n",
    "        where:\n",
    "            x,y \\in {board}\n",
    "            dx,dy \\in {0,1,-1}\n",
    "        \"\"\"\n",
    "        moves = []\n",
    "        for x in range(self.board_length):\n",
    "            for y in range(self.board_height):\n",
    "                for dx, dy in zip([0,0,1,-1],[1,-1,0,0]):\n",
    "                    move = Move(BoardCoord(x,y), dx, dy)\n",
    "                    if self.is_valid_move(move): \n",
    "                        moves.append(move)\n",
    "        return moves\n",
    "    \n",
    "    @property\n",
    "    def get_state(self):\n",
    "        return self.board\n",
    "    \n",
    "    def is_game_over(self) -> bool:\n",
    "        \"\"\"\n",
    "        check if game solved\n",
    "        \"\"\"\n",
    "#         return len(np.where(self.board == 1)[0])==1\n",
    "        return np.sum(self.board==1)==1\n",
    "    \n",
    "def dfs_search(board: pag_solitare):\n",
    "#     seen_states: Set[np.array] = set()\n",
    "#     stack: List[tuple((pag_solitare, Move))] = [(board, 0)]\n",
    "    seen_board_states = set()\n",
    "    stack = [[(board, 0)]]\n",
    "    \n",
    "    counter = 0\n",
    "    while stack:\n",
    "        curr_game = stack.pop()\n",
    "        last_board_state = curr_game[-1][0]\n",
    "        state_str = \"\".join(\"\".join(str(row.tobytes())) for row in last_board_state.board)\n",
    "        if state_str not in seen_board_states:\n",
    "            counter+=1\n",
    "            if np.mod(counter,100000)==0:\n",
    "                print(counter)\n",
    "\n",
    "            \n",
    "            if last_board_state.is_game_over():\n",
    "                return curr_game\n",
    "\n",
    "            seen_board_states.add(state_str)\n",
    "            # apply all possible moves, and duplicate games\n",
    "            for move in last_board_state.get_possible_moves():\n",
    "                new_board = last_board_state.make_move(move)\n",
    "                another_game = copy.copy(curr_game)\n",
    "                another_game.append((new_board, move))\n",
    "                stack.append(another_game)\n",
    "#         else:\n",
    "#             print(\"seen state\")\n",
    "\n",
    "    \n",
    "    raise RuntimeError(\"leaking while loop?\")\n",
    "        \n",
    "        \n",
    "        \n",
    "\n",
    "        "
   ]
  },
  {
   "cell_type": "code",
   "execution_count": 369,
   "metadata": {
    "ExecuteTime": {
     "end_time": "2024-06-22T05:35:53.980512Z",
     "start_time": "2024-06-22T05:35:53.966089Z"
    }
   },
   "outputs": [
    {
     "data": {
      "text/plain": [
       "True"
      ]
     },
     "execution_count": 369,
     "metadata": {},
     "output_type": "execute_result"
    }
   ],
   "source": [
    "#final board test\n",
    "final = np.zeros((9,9))\n",
    "final[3,3] = 1\n",
    "final_board = pag_solitare(final)\n",
    "final_board.is_game_over()"
   ]
  },
  {
   "cell_type": "code",
   "execution_count": 370,
   "metadata": {
    "ExecuteTime": {
     "end_time": "2024-06-22T05:35:54.210926Z",
     "start_time": "2024-06-22T05:35:54.180525Z"
    }
   },
   "outputs": [
    {
     "data": {
      "text/plain": [
       "array([[0, 0, 1, 1, 1, 0, 0],\n",
       "       [0, 0, 1, 1, 1, 0, 0],\n",
       "       [1, 1, 1, 1, 1, 1, 1],\n",
       "       [1, 2, 2, 1, 1, 1, 1],\n",
       "       [1, 1, 1, 1, 1, 1, 1],\n",
       "       [0, 0, 1, 1, 1, 0, 0],\n",
       "       [0, 0, 1, 1, 1, 0, 0]])"
      ]
     },
     "execution_count": 370,
     "metadata": {},
     "output_type": "execute_result"
    }
   ],
   "source": [
    "board = pag_solitare(intial_board)\n",
    "seen_board_states = []\n",
    "stack = [[(board, 0)]]\n",
    "curr_game = stack.pop()\n",
    "last_board_state = curr_game[-1][0]\n",
    "seen_board_states.append(last_board_state.board)\n",
    "moves = last_board_state.get_possible_moves()\n",
    "new_board = last_board_state.make_move(moves[1])\n",
    "new_board.board"
   ]
  },
  {
   "cell_type": "code",
   "execution_count": 371,
   "metadata": {
    "ExecuteTime": {
     "end_time": "2024-06-22T05:35:54.529871Z",
     "start_time": "2024-06-22T05:35:54.497633Z"
    }
   },
   "outputs": [],
   "source": [
    "another_game = copy.copy(curr_game)\n",
    "another_game.append((new_board, moves[0]))"
   ]
  },
  {
   "cell_type": "code",
   "execution_count": 372,
   "metadata": {
    "ExecuteTime": {
     "end_time": "2024-06-22T05:35:54.962459Z",
     "start_time": "2024-06-22T05:35:54.931289Z"
    }
   },
   "outputs": [
    {
     "data": {
      "text/plain": [
       "32"
      ]
     },
     "execution_count": 372,
     "metadata": {},
     "output_type": "execute_result"
    }
   ],
   "source": [
    "np.sum(board.board==1)"
   ]
  },
  {
   "cell_type": "code",
   "execution_count": 373,
   "metadata": {
    "ExecuteTime": {
     "end_time": "2024-06-22T05:37:40.744133Z",
     "start_time": "2024-06-22T05:35:55.382175Z"
    }
   },
   "outputs": [
    {
     "name": "stdout",
     "output_type": "stream",
     "text": [
      "100000\n",
      "200000\n"
     ]
    }
   ],
   "source": [
    "win_game = dfs_search(board)"
   ]
  },
  {
   "cell_type": "code",
   "execution_count": 374,
   "metadata": {
    "ExecuteTime": {
     "end_time": "2024-06-22T05:44:17.218643Z",
     "start_time": "2024-06-22T05:44:17.202151Z"
    }
   },
   "outputs": [
    {
     "data": {
      "text/plain": [
       "[(pag_solitare(), 0),\n",
       " (pag_solitare(), Move(piece=BoardCoord(x=5, y=3), dx=-1, dy=0)),\n",
       " (pag_solitare(), Move(piece=BoardCoord(x=4, y=5), dx=0, dy=-1)),\n",
       " (pag_solitare(), Move(piece=BoardCoord(x=6, y=4), dx=-1, dy=0)),\n",
       " (pag_solitare(), Move(piece=BoardCoord(x=6, y=2), dx=0, dy=1)),\n",
       " (pag_solitare(), Move(piece=BoardCoord(x=4, y=3), dx=0, dy=1)),\n",
       " (pag_solitare(), Move(piece=BoardCoord(x=4, y=6), dx=0, dy=-1)),\n",
       " (pag_solitare(), Move(piece=BoardCoord(x=4, y=2), dx=1, dy=0)),\n",
       " (pag_solitare(), Move(piece=BoardCoord(x=4, y=0), dx=0, dy=1)),\n",
       " (pag_solitare(), Move(piece=BoardCoord(x=3, y=4), dx=1, dy=0)),\n",
       " (pag_solitare(), Move(piece=BoardCoord(x=6, y=4), dx=-1, dy=0)),\n",
       " (pag_solitare(), Move(piece=BoardCoord(x=3, y=6), dx=0, dy=-1)),\n",
       " (pag_solitare(), Move(piece=BoardCoord(x=3, y=2), dx=1, dy=0)),\n",
       " (pag_solitare(), Move(piece=BoardCoord(x=6, y=2), dx=-1, dy=0)),\n",
       " (pag_solitare(), Move(piece=BoardCoord(x=1, y=2), dx=1, dy=0)),\n",
       " (pag_solitare(), Move(piece=BoardCoord(x=4, y=2), dx=-1, dy=0)),\n",
       " (pag_solitare(), Move(piece=BoardCoord(x=3, y=0), dx=0, dy=1)),\n",
       " (pag_solitare(), Move(piece=BoardCoord(x=3, y=2), dx=-1, dy=0)),\n",
       " (pag_solitare(), Move(piece=BoardCoord(x=2, y=0), dx=0, dy=1)),\n",
       " (pag_solitare(), Move(piece=BoardCoord(x=2, y=3), dx=0, dy=-1)),\n",
       " (pag_solitare(), Move(piece=BoardCoord(x=2, y=5), dx=0, dy=-1)),\n",
       " (pag_solitare(), Move(piece=BoardCoord(x=4, y=4), dx=-1, dy=0)),\n",
       " (pag_solitare(), Move(piece=BoardCoord(x=2, y=3), dx=0, dy=1)),\n",
       " (pag_solitare(), Move(piece=BoardCoord(x=2, y=6), dx=0, dy=-1)),\n",
       " (pag_solitare(), Move(piece=BoardCoord(x=0, y=3), dx=1, dy=0)),\n",
       " (pag_solitare(), Move(piece=BoardCoord(x=3, y=3), dx=-1, dy=0)),\n",
       " (pag_solitare(), Move(piece=BoardCoord(x=0, y=2), dx=1, dy=0)),\n",
       " (pag_solitare(), Move(piece=BoardCoord(x=2, y=1), dx=0, dy=1)),\n",
       " (pag_solitare(), Move(piece=BoardCoord(x=2, y=3), dx=0, dy=1)),\n",
       " (pag_solitare(), Move(piece=BoardCoord(x=0, y=4), dx=1, dy=0)),\n",
       " (pag_solitare(), Move(piece=BoardCoord(x=2, y=5), dx=0, dy=-1)),\n",
       " (pag_solitare(), Move(piece=BoardCoord(x=1, y=3), dx=1, dy=0))]"
      ]
     },
     "execution_count": 374,
     "metadata": {},
     "output_type": "execute_result"
    }
   ],
   "source": [
    "win_game"
   ]
  },
  {
   "cell_type": "code",
   "execution_count": 421,
   "metadata": {
    "ExecuteTime": {
     "end_time": "2024-06-22T11:55:30.782092Z",
     "start_time": "2024-06-22T11:55:30.767165Z"
    }
   },
   "outputs": [],
   "source": [
    "import numpy as np\n",
    "import matplotlib.pyplot as plt\n",
    "from matplotlib.animation import FuncAnimation,ArtistAnimation"
   ]
  },
  {
   "cell_type": "code",
   "execution_count": null,
   "metadata": {
    "ExecuteTime": {
     "end_time": "2024-06-22T11:36:08.916814Z",
     "start_time": "2024-06-22T11:36:08.563396Z"
    }
   },
   "outputs": [],
   "source": [
    "Figure = plt.figure()\n",
    "fig, ax = plt.subplots()\n",
    "\n",
    "# creating a plot\n",
    "ind = np.where(board.board==1)\n",
    "# curr_state = plt.imshow(board.board)\n",
    "# curr_state = plt.plot(ind[0], ind[1],'o')\n",
    "curr_state, = ax.plot(ind[0], ind[1], 'ro')\n",
    "\n",
    "plt.xlim(0,6)  \n",
    " \n",
    "# putting limits on y since it is a\n",
    "# cosine function\n",
    "plt.ylim(0,6)    \n",
    " \n",
    "plt.title(\"all rights reserved to ChefVonio\")\n",
    "\n",
    "def AnimationFunction(frame): \n",
    "#     curr_state.set_data(win_game[frame][0].board)\n",
    "    ind = np.where(win_game[frame][0].board==1)\n",
    "    curr_state.set_data(ind[0], ind[1])\n",
    "    return curr_state, \n",
    "    \n",
    "ani = FuncAnimation(Figure, AnimationFunction, frames=len(win_game), interval=100)\n",
    "ani.save(\"C:\\\\Users\\\\User\\\\Downloads\\\\how_to_win_pag_solitaire1.mp4\", writer='pillow', fps=1)"
   ]
  },
  {
   "cell_type": "code",
   "execution_count": 423,
   "metadata": {
    "ExecuteTime": {
     "end_time": "2024-06-22T11:55:47.943540Z",
     "start_time": "2024-06-22T11:55:47.815666Z"
    }
   },
   "outputs": [
    {
     "data": {
      "image/png": "[encoded data removed]",
      "text/plain": [
       "<Figure size 432x288 with 1 Axes>"
      ]
     },
     "metadata": {
      "needs_background": "light"
     },
     "output_type": "display_data"
    }
   ],
   "source": [
    "fig, ax = plt.subplots()\n",
    "game_seq = []\n",
    "ax.set_title('all rights ')\n",
    "for game in win_game:\n",
    "    ind = np.where(game[0].board==1)\n",
    "    game_seq.append(ax.plot(ind[0], ind[1], 'ro'))\n",
    "    \n",
    "ani =  ArtistAnimation(fig=fig, artists=game_seq, interval=400)"
   ]
  },
  {
   "cell_type": "code",
   "execution_count": 424,
   "metadata": {
    "ExecuteTime": {
     "end_time": "2024-06-22T11:56:27.761749Z",
     "start_time": "2024-06-22T11:56:26.959612Z"
    }
   },
   "outputs": [],
   "source": [
    "ani.save(\"C:\\\\Users\\\\User\\\\Downloads\\\\how_to_win_pag_solitaire1.gif\", writer='pillow', fps=1)"
   ]
  },
  {
   "cell_type": "code",
   "execution_count": 346,
   "metadata": {
    "ExecuteTime": {
     "end_time": "2024-06-22T05:29:19.940210Z",
     "start_time": "2024-06-22T05:29:19.931235Z"
    }
   },
   "outputs": [
    {
     "data": {
      "text/plain": [
       "False"
      ]
     },
     "execution_count": 346,
     "metadata": {},
     "output_type": "execute_result"
    }
   ],
   "source": [
    "f in q"
   ]
  },
  {
   "cell_type": "code",
   "execution_count": null,
   "metadata": {},
   "outputs": [],
   "source": []
  }
 ],
 "metadata": {
  "kernelspec": {
   "display_name": "Python 3",
   "language": "python",
   "name": "python3"
  },
  "language_info": {
   "codemirror_mode": {
    "name": "ipython",
    "version": 3
   },
   "file_extension": ".py",
   "mimetype": "text/x-python",
   "name": "python",
   "nbconvert_exporter": "python",
   "pygments_lexer": "ipython3",
   "version": "3.7.7"
  },
  "latex_envs": {
   "LaTeX_envs_menu_present": true,
   "autoclose": false,
   "autocomplete": true,
   "bibliofile": "biblio.bib",
   "cite_by": "apalike",
   "current_citInitial": 1,
   "eqLabelWithNumbers": true,
   "eqNumInitial": 1,
   "hotkeys": {
    "equation": "Ctrl-E",
    "itemize": "Ctrl-I"
   },
   "labels_anchors": false,
   "latex_user_defs": false,
   "report_style_numbering": false,
   "user_envs_cfg": false
  },
  "toc": {
   "base_numbering": 1,
   "nav_menu": {},
   "number_sections": true,
   "sideBar": true,
   "skip_h1_title": false,
   "title_cell": "Table of Contents",
   "title_sidebar": "Contents",
   "toc_cell": false,
   "toc_position": {},
   "toc_section_display": true,
   "toc_window_display": false
  },
  "varInspector": {
   "cols": {
    "lenName": 16,
    "lenType": 16,
    "lenVar": 40
   },
   "kernels_config": {
    "python": {
     "delete_cmd_postfix": "",
     "delete_cmd_prefix": "del ",
     "library": "var_list.py",
     "varRefreshCmd": "print(var_dic_list())"
    },
    "r": {
     "delete_cmd_postfix": ") ",
     "delete_cmd_prefix": "rm(",
     "library": "var_list.r",
     "varRefreshCmd": "cat(var_dic_list()) "
    }
   },
   "types_to_exclude": [
    "module",
    "function",
    "builtin_function_or_method",
    "instance",
    "_Feature"
   ],
   "window_display": false
  }
 },
 "nbformat": 4,
 "nbformat_minor": 4
}
